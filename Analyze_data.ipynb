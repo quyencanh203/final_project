{
 "cells": [
  {
   "cell_type": "markdown",
   "metadata": {},
   "source": [
    "##  PHÂN TÍCH DỮ LIỆU PAGE [đài phát thanh](https://www.facebook.com/daiphatthanh.sound)"
   ]
  },
  {
   "cell_type": "markdown",
   "metadata": {},
   "source": [
    "![alt](https:////scontent.fhan9-1.fna.fbcdn.net/v/t39.30808-6/339122927_1347965006053141_1323654940389313527_n.jpg?_nc_cat=1&ccb=1-7&_nc_sid=5f2048&_nc_ohc=RxgK2wQBdfIAX9RQ12B&_nc_ht=scontent.fhan9-1.fna&oh=00_AfBOx5rlfgrGYgo-aGWT946hcP3U0n2WBaCcYTFM6OyZww&oe=65506ED3)"
   ]
  },
  {
   "cell_type": "markdown",
   "metadata": {},
   "source": [
    "![green-divider](https://user-images.githubusercontent.com/7065401/52071924-c003ad80-2562-11e9-8297-1c6595f8a7ff.png)"
   ]
  },
  {
   "cell_type": "code",
   "execution_count": 5,
   "metadata": {},
   "outputs": [
    {
     "name": "stdout",
     "output_type": "stream",
     "text": [
      "Requirement already satisfied: matplotlib in c:\\users\\admin\\appdata\\local\\packages\\pythonsoftwarefoundation.python.3.11_qbz5n2kfra8p0\\localcache\\local-packages\\python311\\site-packages (3.8.1)\n",
      "Requirement already satisfied: pandas in c:\\users\\admin\\appdata\\local\\packages\\pythonsoftwarefoundation.python.3.11_qbz5n2kfra8p0\\localcache\\local-packages\\python311\\site-packages (2.1.2)\n",
      "Requirement already satisfied: numpy in c:\\users\\admin\\appdata\\local\\packages\\pythonsoftwarefoundation.python.3.11_qbz5n2kfra8p0\\localcache\\local-packages\\python311\\site-packages (1.25.1)\n",
      "Requirement already satisfied: seaborn in c:\\users\\admin\\appdata\\local\\packages\\pythonsoftwarefoundation.python.3.11_qbz5n2kfra8p0\\localcache\\local-packages\\python311\\site-packages (0.13.0)\n",
      "Requirement already satisfied: wordcloud in c:\\users\\admin\\appdata\\local\\packages\\pythonsoftwarefoundation.python.3.11_qbz5n2kfra8p0\\localcache\\local-packages\\python311\\site-packages (1.9.2)\n",
      "Requirement already satisfied: contourpy>=1.0.1 in c:\\users\\admin\\appdata\\local\\packages\\pythonsoftwarefoundation.python.3.11_qbz5n2kfra8p0\\localcache\\local-packages\\python311\\site-packages (from matplotlib) (1.1.1)\n",
      "Requirement already satisfied: cycler>=0.10 in c:\\users\\admin\\appdata\\local\\packages\\pythonsoftwarefoundation.python.3.11_qbz5n2kfra8p0\\localcache\\local-packages\\python311\\site-packages (from matplotlib) (0.12.1)\n",
      "Requirement already satisfied: fonttools>=4.22.0 in c:\\users\\admin\\appdata\\local\\packages\\pythonsoftwarefoundation.python.3.11_qbz5n2kfra8p0\\localcache\\local-packages\\python311\\site-packages (from matplotlib) (4.43.1)\n",
      "Requirement already satisfied: kiwisolver>=1.3.1 in c:\\users\\admin\\appdata\\local\\packages\\pythonsoftwarefoundation.python.3.11_qbz5n2kfra8p0\\localcache\\local-packages\\python311\\site-packages (from matplotlib) (1.4.5)\n",
      "Requirement already satisfied: packaging>=20.0 in c:\\users\\admin\\appdata\\local\\packages\\pythonsoftwarefoundation.python.3.11_qbz5n2kfra8p0\\localcache\\local-packages\\python311\\site-packages (from matplotlib) (23.1)\n",
      "Requirement already satisfied: pillow>=8 in c:\\users\\admin\\appdata\\local\\packages\\pythonsoftwarefoundation.python.3.11_qbz5n2kfra8p0\\localcache\\local-packages\\python311\\site-packages (from matplotlib) (10.1.0)\n",
      "Requirement already satisfied: pyparsing>=2.3.1 in c:\\users\\admin\\appdata\\local\\packages\\pythonsoftwarefoundation.python.3.11_qbz5n2kfra8p0\\localcache\\local-packages\\python311\\site-packages (from matplotlib) (3.1.1)\n",
      "Requirement already satisfied: python-dateutil>=2.7 in c:\\users\\admin\\appdata\\local\\packages\\pythonsoftwarefoundation.python.3.11_qbz5n2kfra8p0\\localcache\\local-packages\\python311\\site-packages (from matplotlib) (2.8.2)\n",
      "Requirement already satisfied: pytz>=2020.1 in c:\\users\\admin\\appdata\\local\\packages\\pythonsoftwarefoundation.python.3.11_qbz5n2kfra8p0\\localcache\\local-packages\\python311\\site-packages (from pandas) (2023.3)\n",
      "Requirement already satisfied: tzdata>=2022.1 in c:\\users\\admin\\appdata\\local\\packages\\pythonsoftwarefoundation.python.3.11_qbz5n2kfra8p0\\localcache\\local-packages\\python311\\site-packages (from pandas) (2023.3)\n",
      "Requirement already satisfied: six>=1.5 in c:\\users\\admin\\appdata\\local\\packages\\pythonsoftwarefoundation.python.3.11_qbz5n2kfra8p0\\localcache\\local-packages\\python311\\site-packages (from python-dateutil>=2.7->matplotlib) (1.16.0)\n",
      "Note: you may need to restart the kernel to use updated packages.\n"
     ]
    }
   ],
   "source": [
    "%pip install matplotlib pandas numpy seaborn wordcloud"
   ]
  },
  {
   "cell_type": "code",
   "execution_count": 2,
   "metadata": {},
   "outputs": [],
   "source": [
    "import numpy as np\n",
    "import pandas as pd\n",
    "import matplotlib.pyplot as plt\n",
    "import seaborn as sns"
   ]
  },
  {
   "cell_type": "code",
   "execution_count": 3,
   "metadata": {},
   "outputs": [],
   "source": [
    "raw_df = pd.read_csv('Datadaiphatthanh.sound.csv')\n",
    "raw_df1 = pd.read_csv('Datadaiphatthanh.sound1.csv')"
   ]
  },
  {
   "cell_type": "code",
   "execution_count": null,
   "metadata": {},
   "outputs": [],
   "source": [
    "raw_df.info()"
   ]
  },
  {
   "cell_type": "code",
   "execution_count": null,
   "metadata": {},
   "outputs": [],
   "source": [
    "raw_df.head(11)"
   ]
  },
  {
   "cell_type": "code",
   "execution_count": 10,
   "metadata": {},
   "outputs": [
    {
     "data": {
      "text/plain": [
       "31"
      ]
     },
     "execution_count": 10,
     "metadata": {},
     "output_type": "execute_result"
    }
   ],
   "source": [
    "raw_df.reactions.isnull().sum()"
   ]
  },
  {
   "cell_type": "code",
   "execution_count": 11,
   "metadata": {},
   "outputs": [
    {
     "data": {
      "text/plain": [
       "dtype('O')"
      ]
     },
     "execution_count": 11,
     "metadata": {},
     "output_type": "execute_result"
    }
   ],
   "source": [
    "raw_df['reactions'].dtype"
   ]
  },
  {
   "cell_type": "code",
   "execution_count": 4,
   "metadata": {},
   "outputs": [],
   "source": [
    "\n",
    "first_row = raw_df.iloc[67]\n",
    "reactions = dict(eval(first_row['reactions']))\n",
    "reactions[\"shares\"] = first_row['shares']\n",
    "reactions[\"comments\"] = first_row['comments']"
   ]
  },
  {
   "cell_type": "code",
   "execution_count": 5,
   "metadata": {},
   "outputs": [
    {
     "data": {
      "text/plain": [
       "{'like': 1205,\n",
       " 'love': 193,\n",
       " 'haha': 4,\n",
       " 'care': 7,\n",
       " 'sad': 1,\n",
       " 'angry': 1,\n",
       " 'shares': 30,\n",
       " 'comments': 7}"
      ]
     },
     "execution_count": 5,
     "metadata": {},
     "output_type": "execute_result"
    }
   ],
   "source": [
    "reactions"
   ]
  },
  {
   "cell_type": "code",
   "execution_count": 16,
   "metadata": {},
   "outputs": [
    {
     "name": "stdout",
     "output_type": "stream",
     "text": [
      "{'like': 148, 'love': 29, 'haha': 1, 'care': 1, 'angry': 1}\n",
      "{'like': 122, 'love': 45, 'haha': 3, 'sad': 1}\n",
      "{'like': 4385, 'love': 1227, 'haha': 1, 'wow': 1, 'care': 19, 'sad': 1}\n",
      "{'like': 125, 'love': 122, 'care': 4}\n",
      "{'like': 649, 'love': 135, 'haha': 8, 'care': 3, 'sad': 11}\n",
      "{'like': 1237, 'love': 586, 'haha': 6, 'wow': 3, 'care': 10, 'sad': 2}\n",
      "{'like': 26, 'love': 19, 'care': 4}\n",
      "{'like': 100, 'love': 34, 'care': 2}\n",
      "{'like': 179, 'love': 91, 'care': 1}\n",
      "{'like': 263, 'love': 129, 'haha': 1, 'care': 3}\n",
      "{'like': 545, 'love': 294, 'haha': 1, 'care': 13}\n",
      "{'like': 121, 'love': 57, 'haha': 3, 'care': 3, 'sad': 1}\n",
      "{'like': 43, 'love': 19}\n",
      "{'like': 642, 'love': 335, 'care': 7, 'sad': 1}\n",
      "{'like': 119, 'love': 36, 'haha': 1, 'care': 3}\n",
      "{'like': 60, 'love': 32, 'care': 2}\n",
      "{'like': 32, 'love': 13, 'care': 2}\n",
      "{'like': 85, 'love': 5, 'haha': 1}\n",
      "{'like': 550, 'love': 279, 'haha': 1, 'wow': 2, 'care': 9, 'sad': 1}\n",
      "{'like': 25, 'love': 1, 'haha': 6}\n",
      "{'like': 828, 'love': 366, 'haha': 1, 'wow': 1, 'care': 10, 'sad': 1}\n",
      "{'like': 104, 'love': 42, 'wow': 1, 'care': 1}\n",
      "{'like': 1831, 'love': 201, 'haha': 4, 'wow': 2, 'care': 4, 'sad': 2}\n",
      "{'like': 2665, 'love': 117, 'haha': 1687, 'wow': 3, 'care': 4, 'sad': 8, 'angry': 1}\n",
      "{'like': 3207, 'love': 899, 'haha': 4, 'wow': 2, 'care': 15}\n",
      "{'like': 997, 'love': 246, 'haha': 2, 'wow': 3, 'care': 12}\n",
      "{'like': 6112, 'love': 1596, 'haha': 8, 'wow': 2, 'care': 29}\n",
      "{'like': 3633, 'love': 672, 'haha': 61, 'wow': 4, 'care': 13, 'sad': 3}\n",
      "{'like': 3763, 'love': 847, 'haha': 2, 'wow': 3, 'care': 6}\n",
      "{'like': 3913, 'love': 99, 'haha': 4871, 'wow': 23, 'care': 16, 'sad': 1816, 'angry': 5}\n",
      "{'like': 870, 'love': 74, 'haha': 758, 'wow': 1, 'care': 8, 'sad': 9}\n",
      "{'like': 1087, 'love': 6, 'haha': 1413, 'wow': 2, 'care': 1, 'sad': 12}\n",
      "{'like': 3782, 'love': 534, 'haha': 6, 'wow': 2, 'care': 11, 'sad': 1}\n",
      "{'like': 13677, 'love': 181, 'haha': 19408, 'wow': 30, 'care': 23, 'sad': 310, 'angry': 8}\n",
      "{'like': 2930, 'love': 27, 'haha': 7897, 'wow': 7, 'care': 10, 'sad': 118}\n",
      "{'like': 5302, 'love': 2834, 'haha': 4, 'wow': 9, 'care': 85, 'sad': 5}\n",
      "{'like': 3065, 'love': 1681, 'haha': 38, 'wow': 701, 'care': 58, 'sad': 2}\n",
      "{'like': 3561, 'love': 269, 'haha': 13, 'wow': 1, 'care': 7, 'sad': 5}\n",
      "{'like': 1727, 'love': 566, 'haha': 2, 'wow': 10, 'care': 11}\n",
      "{'like': 1356, 'love': 343, 'care': 5}\n",
      "{'like': 2938, 'love': 445, 'haha': 15, 'wow': 2, 'care': 14, 'sad': 2}\n",
      "{'like': 174, 'love': 15, 'haha': 33, 'wow': 3}\n",
      "{'like': 21407, 'love': 1047, 'haha': 17932, 'wow': 48, 'care': 94, 'sad': 242, 'angry': 15}\n",
      "{'like': 3310, 'love': 971, 'care': 22, 'sad': 1}\n",
      "{'like': 12305, 'love': 2682, 'haha': 19, 'wow': 21, 'care': 55, 'sad': 6}\n",
      "{'like': 2484, 'love': 631, 'haha': 199, 'wow': 2, 'care': 15, 'sad': 3}\n",
      "{'like': 282, 'love': 9, 'haha': 92, 'wow': 4, 'care': 1, 'sad': 1}\n",
      "{'like': 2409, 'love': 318, 'haha': 10, 'wow': 12, 'care': 9, 'sad': 1}\n",
      "{'like': 1004, 'love': 49, 'haha': 376, 'wow': 4, 'care': 4, 'sad': 3}\n",
      "{'like': 322, 'love': 214, 'haha': 118, 'wow': 1, 'care': 5, 'sad': 2}\n",
      "{'like': 4977, 'love': 1842, 'haha': 13, 'wow': 15, 'care': 63, 'sad': 4}\n",
      "{'like': 880, 'love': 74, 'haha': 124, 'care': 2, 'sad': 1}\n",
      "{'like': 7232, 'love': 121, 'haha': 22905, 'wow': 20, 'care': 73, 'sad': 2205, 'angry': 1}\n",
      "{'like': 1043, 'love': 416, 'wow': 1, 'sad': 1}\n",
      "{'like': 1611, 'love': 442, 'haha': 4, 'wow': 1, 'care': 9, 'sad': 5}\n",
      "{'like': 1283, 'love': 4, 'haha': 3, 'care': 2}\n",
      "{'like': 6484, 'love': 121, 'haha': 4907, 'wow': 9, 'care': 10, 'sad': 212}\n",
      "{'like': 6466, 'love': 1835, 'haha': 11, 'wow': 4, 'care': 42, 'sad': 1}\n",
      "{'like': 1508, 'love': 428, 'haha': 26, 'wow': 4, 'care': 11, 'sad': 1}\n",
      "{'like': 32, 'love': 5, 'haha': 1}\n",
      "{'like': 470, 'love': 226, 'haha': 1, 'care': 7, 'sad': 1}\n",
      "{'like': 1058, 'love': 148, 'haha': 2, 'wow': 41, 'care': 5, 'sad': 3}\n",
      "{'like': 12000, 'love': 148, 'haha': 13868, 'wow': 12, 'care': 42, 'sad': 198, 'angry': 2}\n",
      "{'like': 7184, 'love': 2576, 'haha': 68, 'wow': 3, 'care': 42, 'sad': 9}\n",
      "{'like': 676, 'love': 56, 'haha': 200, 'wow': 2, 'care': 8, 'sad': 2}\n",
      "{'like': 782, 'love': 293, 'haha': 2, 'wow': 3, 'care': 12, 'sad': 3}\n",
      "{'like': 6919, 'love': 1319, 'haha': 32, 'wow': 45, 'care': 40, 'sad': 8}\n",
      "{'like': 1205, 'love': 193, 'haha': 4, 'care': 7, 'sad': 1, 'angry': 1}\n",
      "{'like': 2369, 'love': 32, 'haha': 1, 'wow': 9, 'care': 13, 'sad': 2}\n",
      "{'like': 200, 'love': 8, 'haha': 3}\n",
      "{'like': 5177, 'love': 118, 'haha': 1993, 'wow': 19, 'care': 18, 'sad': 15, 'angry': 1}\n",
      "{'like': 3440, 'love': 76, 'haha': 5172, 'wow': 3, 'care': 12, 'sad': 14}\n",
      "{'like': 5916, 'love': 37, 'haha': 15828, 'wow': 31, 'care': 13, 'sad': 1666, 'angry': 6}\n",
      "{'like': 17615, 'love': 8632, 'haha': 112, 'wow': 12, 'care': 269, 'sad': 10}\n",
      "{'like': 8788, 'love': 1620, 'haha': 15, 'wow': 5, 'care': 58, 'sad': 47}\n",
      "{'like': 9058, 'love': 2317, 'haha': 91, 'wow': 12, 'care': 66, 'sad': 4, 'angry': 1}\n",
      "{'like': 4726, 'love': 77, 'haha': 3147, 'wow': 6, 'care': 10, 'sad': 23, 'angry': 1}\n",
      "nan\n",
      "nan\n",
      "nan\n",
      "nan\n",
      "nan\n",
      "nan\n",
      "nan\n",
      "nan\n",
      "nan\n",
      "nan\n",
      "nan\n",
      "nan\n",
      "nan\n",
      "nan\n",
      "nan\n",
      "nan\n",
      "nan\n",
      "nan\n",
      "nan\n",
      "nan\n",
      "nan\n",
      "nan\n",
      "nan\n"
     ]
    }
   ],
   "source": [
    "\n",
    "for index in range(0,100):\n",
    "    print(raw_df['reactions'][index])\n",
    "    # if raw_df['reactions'][index] is 'NaN':\n",
    "    #     print(raw_df['post_id'][index])\n",
    "    # else : print(index)"
   ]
  },
  {
   "cell_type": "code",
   "execution_count": 40,
   "metadata": {},
   "outputs": [
    {
     "name": "stdout",
     "output_type": "stream",
     "text": [
      "905977034228019\n",
      "905961654229557\n",
      "905716567587399\n",
      "905703074255415\n",
      "905700454255677\n",
      "905685700923819\n",
      "905683437590712\n",
      "905683067590749\n",
      "905682324257490\n",
      "905681304257592\n",
      "905680380924351\n",
      "905679180924471\n",
      "905678437591212\n",
      "905677950924594\n",
      "905677587591297\n",
      "905677224258000\n",
      "905676050924784\n",
      "905594284266294\n",
      "905643777594678\n",
      "905562030936186\n",
      "905619637597092\n",
      "905550970937292\n",
      "905555270936862\n",
      "905533377605718\n",
      "905493907609665\n",
      "905490264276696\n",
      "905468620945527\n",
      "905465814279141\n",
      "905456254280097\n",
      "905444104281312\n",
      "905424900949899\n",
      "905417280950661\n",
      "905406227618433\n",
      "905393644286358\n",
      "905382494287473\n",
      "905198177639238\n",
      "905176504308072\n",
      "905078614317861\n",
      "905138877645168\n",
      "905121787646877\n",
      "905114714314251\n",
      "905113727647683\n",
      "905107804314942\n",
      "905083207650735\n",
      "905070797651976\n",
      "905053210987068\n",
      "904973507661705\n",
      "904944627664593\n",
      "904928054332917\n",
      "904627521029637\n",
      "904619497697106\n",
      "904601667698889\n",
      "904606664365056\n",
      "904535841038805\n",
      "904583797700676\n",
      "904539904371732\n",
      "904559807703075\n",
      "904530884372634\n",
      "904491017709954\n",
      "904465867712469\n",
      "904462217712834\n",
      "904448877714168\n",
      "904425801049809\n",
      "904377097721346\n",
      "904351954390527\n",
      "904023817756674\n",
      "903934274432295\n",
      "903879101104479\n",
      "903921404433582\n",
      "903953911096998\n",
      "903943584431364\n",
      "903846634441059\n",
      "903783757780680\n",
      "903580357801020\n",
      "903565977802458\n",
      "903532141139175\n",
      "903488694476853\n",
      "903443521148037\n",
      "903435071148882\n",
      "903406077818448\n",
      "903362077822848\n",
      "903353444490378\n",
      "903345617824494\n",
      "903336857825370\n",
      "903289944496728\n",
      "903132551179134\n",
      "903122451180144\n",
      "903114787847577\n",
      "903112117847844\n",
      "903096987849357\n",
      "903079294517793\n",
      "903053921186997\n",
      "903041264521596\n",
      "903031491189240\n",
      "903024601189929\n",
      "902945974531125\n",
      "903009707858085\n",
      "903006717858384\n",
      "902997694525953\n",
      "902992027859853\n"
     ]
    }
   ],
   "source": [
    "for index in range(0,100):\n",
    "    print(raw_df['post_id'][index])"
   ]
  },
  {
   "cell_type": "code",
   "execution_count": 15,
   "metadata": {},
   "outputs": [
    {
     "data": {
      "text/plain": [
       "dtype('int64')"
      ]
     },
     "execution_count": 15,
     "metadata": {},
     "output_type": "execute_result"
    }
   ],
   "source": [
    "raw_df['post_id'][60].dtype"
   ]
  },
  {
   "cell_type": "code",
   "execution_count": 32,
   "metadata": {},
   "outputs": [],
   "source": [
    "arr = []\n",
    "for index in range(0,71):\n",
    "    arr.append(raw_df['post_id'][index]) "
   ]
  },
  {
   "cell_type": "code",
   "execution_count": 31,
   "metadata": {},
   "outputs": [
    {
     "name": "stdout",
     "output_type": "stream",
     "text": [
      "0\n",
      "1\n",
      "2\n",
      "3\n",
      "4\n",
      "5\n",
      "6\n",
      "7\n",
      "8\n",
      "9\n",
      "10\n",
      "11\n",
      "12\n",
      "13\n",
      "14\n",
      "15\n",
      "16\n",
      "17\n",
      "18\n",
      "19\n",
      "20\n",
      "21\n",
      "22\n",
      "23\n",
      "24\n",
      "25\n",
      "26\n",
      "27\n",
      "28\n",
      "29\n",
      "30\n",
      "31\n",
      "32\n",
      "33\n",
      "34\n",
      "35\n",
      "36\n",
      "37\n",
      "38\n",
      "39\n",
      "40\n",
      "41\n",
      "42\n",
      "43\n",
      "44\n",
      "45\n",
      "46\n",
      "47\n",
      "48\n",
      "49\n",
      "50\n",
      "51\n",
      "52\n",
      "53\n",
      "54\n",
      "55\n",
      "56\n",
      "57\n",
      "58\n",
      "59\n",
      "60\n",
      "61\n",
      "62\n",
      "63\n",
      "64\n",
      "65\n",
      "66\n",
      "67\n",
      "68\n",
      "69\n",
      "70\n"
     ]
    }
   ],
   "source": [
    "for i in range(len(arr)):\n",
    "    if arr[i] == 904054274420295:\n",
    "        print(arr[i])\n",
    "    else:print(i)\n",
    "    "
   ]
  },
  {
   "cell_type": "markdown",
   "metadata": {},
   "source": [
    "[hướng dẫn viết markdown](https://www.markdowntutorial.com/lesson/3/)"
   ]
  }
 ],
 "metadata": {
  "kernelspec": {
   "display_name": "Python 3",
   "language": "python",
   "name": "python3"
  },
  "language_info": {
   "codemirror_mode": {
    "name": "ipython",
    "version": 3
   },
   "file_extension": ".py",
   "mimetype": "text/x-python",
   "name": "python",
   "nbconvert_exporter": "python",
   "pygments_lexer": "ipython3",
   "version": "3.11.6"
  }
 },
 "nbformat": 4,
 "nbformat_minor": 2
}
