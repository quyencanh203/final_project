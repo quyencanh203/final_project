{
 "cells": [
  {
   "cell_type": "markdown",
   "metadata": {},
   "source": [
    "<img src=\"https:////scontent.fhan9-1.fna.fbcdn.net/v/t39.30808-6/339122927_1347965006053141_1323654940389313527_n.jpg?_nc_cat=1&ccb=1-7&_nc_sid=5f2048&_nc_ohc=RxgK2wQBdfIAX9RQ12B&_nc_ht=scontent.fhan9-1.fna&oh=00_AfBOx5rlfgrGYgo-aGWT946hcP3U0n2WBaCcYTFM6OyZww&oe=65506ED3\"\n",
    "    style=\"width:500px; float: right; margin: 0 40px 40px 40px;\"></img>\n",
    "\n",
    "##  PHÂN TÍCH DỮ LIỆU PAGE [đài phát thanh](https://www.facebook.com/daiphatthanh.sound)\n",
    "## Bài phân viết phân tích page được viết trong [NOTION](https://www.notion.so/Data-Analyze-Page-Facebook-6ba0209824a04832b291f084f583f6b9).\n",
    "\n",
    "Phân tích dữ liệu: Một số câu hỏi tiềm năng để phân tích như: Đâu là bài viết\n",
    "có lượt tương tác lớn nhất trong bộ dữ liệu?; Các mốc thời gian trong ngày mà\n",
    "Fanpage thường xuyên đăng bài viết?; Số lượt tương tác trong các bài đăng thay\n",
    "đổi như thế nào?; Đâu là các từ khóa xuất hiện nhiều nhất trong các bài đăng được\n",
    "thu thập?; Sự tương quan giữa số lượng reactions với các trường khác như số lượng\n",
    "bình luận, độ dài bài viết?; v.v. Ngoài ra, nếu có dữ liệu từ hai trang Fanpage mà\n",
    "giả sử là hai trang tin tức, sự tương quan giữa nội dung của hai trang Fanpage như\n",
    "thế nào?; v.v."
   ]
  },
  {
   "cell_type": "code",
   "execution_count": null,
   "metadata": {
    "vscode": {
     "languageId": "plaintext"
    }
   },
   "outputs": [],
   "source": []
  }
 ],
 "metadata": {
  "language_info": {
   "name": "python"
  }
 },
 "nbformat": 4,
 "nbformat_minor": 2
}
