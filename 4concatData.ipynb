{
 "cells": [
  {
   "cell_type": "code",
   "execution_count": 1,
   "metadata": {},
   "outputs": [],
   "source": [
    "import numpy as np\n",
    "import pandas as pd"
   ]
  },
  {
   "cell_type": "markdown",
   "metadata": {},
   "source": [
    "### thuc hien noi cac du lieu roi rac voi nhau\n",
    "### phan nay mang tinh chat tuy bien nen kho doc hieu"
   ]
  },
  {
   "cell_type": "code",
   "execution_count": 2,
   "metadata": {},
   "outputs": [],
   "source": [
    "# dc dataframe\n",
    "df_old = pd.read_csv(r'D:\\projects\\python\\data analyze\\final_project\\Data\\Data_26-11.csv')\n",
    "df_new = pd.read_csv(r'D:\\projects\\python\\data analyze\\final_project\\Data\\data28_11_chua_xu_li.csv')"
   ]
  },
  {
   "cell_type": "code",
   "execution_count": null,
   "metadata": {},
   "outputs": [],
   "source": [
    "df_new['post_text'].to_list()"
   ]
  },
  {
   "cell_type": "code",
   "execution_count": 6,
   "metadata": {},
   "outputs": [
    {
     "data": {
      "text/html": [
       "<div>\n",
       "<style scoped>\n",
       "    .dataframe tbody tr th:only-of-type {\n",
       "        vertical-align: middle;\n",
       "    }\n",
       "\n",
       "    .dataframe tbody tr th {\n",
       "        vertical-align: top;\n",
       "    }\n",
       "\n",
       "    .dataframe thead th {\n",
       "        text-align: right;\n",
       "    }\n",
       "</style>\n",
       "<table border=\"1\" class=\"dataframe\">\n",
       "  <thead>\n",
       "    <tr style=\"text-align: right;\">\n",
       "      <th></th>\n",
       "      <th>post_id</th>\n",
       "      <th>text</th>\n",
       "      <th>post_text</th>\n",
       "      <th>shared_text</th>\n",
       "      <th>original_text</th>\n",
       "      <th>time</th>\n",
       "      <th>timestamp</th>\n",
       "      <th>image</th>\n",
       "      <th>image_lowquality</th>\n",
       "      <th>images</th>\n",
       "      <th>...</th>\n",
       "      <th>w3_fb_url</th>\n",
       "      <th>reactions</th>\n",
       "      <th>reaction_count</th>\n",
       "      <th>with</th>\n",
       "      <th>page_id</th>\n",
       "      <th>sharers</th>\n",
       "      <th>image_id</th>\n",
       "      <th>image_ids</th>\n",
       "      <th>was_live</th>\n",
       "      <th>fetched_time</th>\n",
       "    </tr>\n",
       "  </thead>\n",
       "  <tbody>\n",
       "    <tr>\n",
       "      <th>30</th>\n",
       "      <td>912937063532016</td>\n",
       "      <td>KHOẢNH KHẮC SƠN TÙNG M-TP MỪNG SINH NHẬT LẦN T...</td>\n",
       "      <td>KHOẢNH KHẮC SƠN TÙNG M-TP MỪNG SINH NHẬT LẦN T...</td>\n",
       "      <td>NaN</td>\n",
       "      <td>NaN</td>\n",
       "      <td>2023-11-25 23:22:01</td>\n",
       "      <td>1700929321</td>\n",
       "      <td>NaN</td>\n",
       "      <td>https://scontent.fhan9-1.fna.fbcdn.net/v/t15.5...</td>\n",
       "      <td>[]</td>\n",
       "      <td>...</td>\n",
       "      <td>https://www.facebook.com/daiphatthanh.sound/po...</td>\n",
       "      <td>{'like': 6314, 'love': 4637, 'haha': 16, 'wow'...</td>\n",
       "      <td>11108</td>\n",
       "      <td>NaN</td>\n",
       "      <td>905871509607608</td>\n",
       "      <td>NaN</td>\n",
       "      <td>NaN</td>\n",
       "      <td>[]</td>\n",
       "      <td>False</td>\n",
       "      <td>2023-11-28 12:34:18.969510</td>\n",
       "    </tr>\n",
       "  </tbody>\n",
       "</table>\n",
       "<p>1 rows × 51 columns</p>\n",
       "</div>"
      ],
      "text/plain": [
       "            post_id                                               text  \\\n",
       "30  912937063532016  KHOẢNH KHẮC SƠN TÙNG M-TP MỪNG SINH NHẬT LẦN T...   \n",
       "\n",
       "                                            post_text  shared_text  \\\n",
       "30  KHOẢNH KHẮC SƠN TÙNG M-TP MỪNG SINH NHẬT LẦN T...          NaN   \n",
       "\n",
       "    original_text                 time   timestamp image  \\\n",
       "30            NaN  2023-11-25 23:22:01  1700929321   NaN   \n",
       "\n",
       "                                     image_lowquality images  ...  \\\n",
       "30  https://scontent.fhan9-1.fna.fbcdn.net/v/t15.5...     []  ...   \n",
       "\n",
       "                                            w3_fb_url  \\\n",
       "30  https://www.facebook.com/daiphatthanh.sound/po...   \n",
       "\n",
       "                                            reactions reaction_count with  \\\n",
       "30  {'like': 6314, 'love': 4637, 'haha': 16, 'wow'...          11108  NaN   \n",
       "\n",
       "            page_id  sharers  image_id  image_ids  was_live  \\\n",
       "30  905871509607608      NaN       NaN         []     False   \n",
       "\n",
       "                  fetched_time  \n",
       "30  2023-11-28 12:34:18.969510  \n",
       "\n",
       "[1 rows x 51 columns]"
      ]
     },
     "execution_count": 6,
     "metadata": {},
     "output_type": "execute_result"
    }
   ],
   "source": [
    "df_new[df_new['time']=='2023-11-25 23:22:01']"
   ]
  },
  {
   "cell_type": "code",
   "execution_count": null,
   "metadata": {},
   "outputs": [],
   "source": [
    "df_new['reactors'].isna()"
   ]
  },
  {
   "cell_type": "code",
   "execution_count": null,
   "metadata": {},
   "outputs": [],
   "source": [
    "# xóa từ bài ) đến bài 86 của đata cũ\n",
    "# nối data mới vào data cũ đã được xóa bài trùng lặp .\n",
    "ls = [] # luu index can xoa\n",
    "for i in range(30,40):\n",
    "    ls.append(i)\n",
    "data = pd.DataFrame(data=df_new)\n",
    "res = data.drop(ls,axis='index')\n",
    "res"
   ]
  },
  {
   "cell_type": "code",
   "execution_count": 20,
   "metadata": {},
   "outputs": [
    {
     "data": {
      "text/plain": [
       "post_id  text   post_text  time   timestamp  image_lowquality  images  images_description  images_lowquality  images_lowquality_description  comments  shares  post_url  links  user_id  username  user_url  is_live  available  comments_full  reactors  w3_fb_url  reactions  reaction_count  page_id  image_ids  was_live  fetched_time\n",
       "False    False  False      False  False      False             False   False               False              False                          False     False   False     False  False    False     False     False    False      False          False     False      False      False           False    False      False     False           30\n",
       "Name: count, dtype: int64"
      ]
     },
     "execution_count": 20,
     "metadata": {},
     "output_type": "execute_result"
    }
   ],
   "source": [
    "res[['post_id','text','post_text','time','timestamp','image_lowquality','images','images_description',\n",
    "       'images_lowquality','images_lowquality_description','comments','shares',\n",
    "       'post_url','links','user_id','username','user_url','is_live','available','comments_full',\n",
    "       'reactors','w3_fb_url','reactions','reaction_count','page_id','image_ids',\n",
    "       'was_live','fetched_time']].isna().value_counts()"
   ]
  },
  {
   "cell_type": "code",
   "execution_count": 21,
   "metadata": {},
   "outputs": [
    {
     "data": {
      "text/plain": [
       "post_id  text   post_text  shared_text  original_text  time   timestamp  image  image_lowquality  images  images_description  images_lowquality  images_lowquality_description  video  video_duration_seconds  video_height  video_id  video_quality  video_size_MB  video_thumbnail  video_watches  video_width  likes  comments  shares  post_url  link  links  user_id  username  user_url  is_live  factcheck  shared_post_id  shared_time  shared_user_id  shared_username  shared_post_url  available  comments_full  reactors  w3_fb_url  reactions  reaction_count  with  page_id  sharers  image_id  image_ids  was_live  fetched_time\n",
       "False    False  False      True         True           False  False      False  False             False   False               False              False                          True   True                    True          True      True           True           True             True           True         False  False     False   False     True  False  False    False     False     False    True       True            True         True            True             True             False      False          False     False      False      False           True  False    True     True      False      False     False           12\n",
       "                                                                                                                                                                                                                                                                                                                                                                                                                                                                                                                                                                                                    False     False      False     False            9\n",
       "                                                                         True   False             False   False               False              False                          False  True                    True          False     True           True           False            True           True         False  False     False   False     True  False  False    False     False     False    True       True            True         True            True             True             False      False          False     False      False      False           True  False    True     True      False      False     False            8\n",
       "                                                                                                                                                                                True   True                    True          True      True           True           True             True           True         False  False     False   False     True  False  False    False     False     False    True       True            True         True            True             True             False      False          False     False      False      False           True  False    True     False     False      False     False            1\n",
       "Name: count, dtype: int64"
      ]
     },
     "execution_count": 21,
     "metadata": {},
     "output_type": "execute_result"
    }
   ],
   "source": [
    "res.isna().value_counts()"
   ]
  },
  {
   "cell_type": "code",
   "execution_count": null,
   "metadata": {},
   "outputs": [],
   "source": [
    "res.head()"
   ]
  },
  {
   "cell_type": "code",
   "execution_count": 23,
   "metadata": {},
   "outputs": [
    {
     "name": "stdout",
     "output_type": "stream",
     "text": [
      "<class 'pandas.core.frame.DataFrame'>\n",
      "RangeIndex: 205 entries, 0 to 204\n",
      "Data columns (total 53 columns):\n",
      " #   Column                         Non-Null Count  Dtype  \n",
      "---  ------                         --------------  -----  \n",
      " 0   post_id                        205 non-null    int64  \n",
      " 1   text                           204 non-null    object \n",
      " 2   post_text                      204 non-null    object \n",
      " 3   shared_text                    0 non-null      float64\n",
      " 4   original_text                  0 non-null      float64\n",
      " 5   time                           205 non-null    object \n",
      " 6   timestamp                      205 non-null    float64\n",
      " 7   image                          146 non-null    object \n",
      " 8   image_lowquality               205 non-null    object \n",
      " 9   images                         205 non-null    object \n",
      " 10  images_description             205 non-null    object \n",
      " 11  images_lowquality              205 non-null    object \n",
      " 12  images_lowquality_description  205 non-null    object \n",
      " 13  video                          57 non-null     object \n",
      " 14  video_duration_seconds         0 non-null      float64\n",
      " 15  video_height                   0 non-null      float64\n",
      " 16  video_id                       57 non-null     float64\n",
      " 17  video_quality                  0 non-null      float64\n",
      " 18  video_size_MB                  0 non-null      float64\n",
      " 19  video_thumbnail                57 non-null     object \n",
      " 20  video_watches                  0 non-null      float64\n",
      " 21  video_width                    0 non-null      float64\n",
      " 22  likes                          205 non-null    int64  \n",
      " 23  comments                       205 non-null    int64  \n",
      " 24  shares                         205 non-null    int64  \n",
      " 25  post_url                       205 non-null    object \n",
      " 26  link                           0 non-null      float64\n",
      " 27  links                          205 non-null    object \n",
      " 28  user_id                        205 non-null    int64  \n",
      " 29  username                       205 non-null    object \n",
      " 30  user_url                       205 non-null    object \n",
      " 31  is_live                        205 non-null    bool   \n",
      " 32  factcheck                      0 non-null      float64\n",
      " 33  shared_post_id                 0 non-null      float64\n",
      " 34  shared_time                    0 non-null      float64\n",
      " 35  shared_user_id                 0 non-null      float64\n",
      " 36  shared_username                0 non-null      float64\n",
      " 37  shared_post_url                0 non-null      float64\n",
      " 38  available                      205 non-null    bool   \n",
      " 39  comments_full                  205 non-null    object \n",
      " 40  reactors                       205 non-null    object \n",
      " 41  w3_fb_url                      205 non-null    object \n",
      " 42  reactions                      205 non-null    object \n",
      " 43  reaction_count                 205 non-null    int64  \n",
      " 44  with                           0 non-null      float64\n",
      " 45  page_id                        205 non-null    int64  \n",
      " 46  sharers                        0 non-null      float64\n",
      " 47  image_id                       84 non-null     float64\n",
      " 48  image_ids                      205 non-null    object \n",
      " 49  was_live                       205 non-null    bool   \n",
      " 50  fetched_time                   205 non-null    object \n",
      " 51  video_ids                      20 non-null     object \n",
      " 52  videos                         20 non-null     object \n",
      "dtypes: bool(3), float64(20), int64(7), object(23)\n",
      "memory usage: 80.8+ KB\n"
     ]
    }
   ],
   "source": [
    "Concat_Data = pd.concat([res, df_old], axis=0,ignore_index=True)\n",
    "Concat_Data.info()\n"
   ]
  },
  {
   "cell_type": "code",
   "execution_count": null,
   "metadata": {},
   "outputs": [],
   "source": [
    "Concat_Data"
   ]
  },
  {
   "cell_type": "code",
   "execution_count": null,
   "metadata": {},
   "outputs": [],
   "source": [
    "Concat_Data['reactions']"
   ]
  },
  {
   "cell_type": "code",
   "execution_count": 29,
   "metadata": {},
   "outputs": [
    {
     "data": {
      "text/plain": [
       "reactions\n",
       "False    205\n",
       "Name: count, dtype: int64"
      ]
     },
     "metadata": {},
     "output_type": "display_data"
    },
    {
     "data": {
      "text/plain": [
       "reactors\n",
       "False    205\n",
       "Name: count, dtype: int64"
      ]
     },
     "metadata": {},
     "output_type": "display_data"
    },
    {
     "data": {
      "text/plain": [
       "comments\n",
       "False    205\n",
       "Name: count, dtype: int64"
      ]
     },
     "metadata": {},
     "output_type": "display_data"
    },
    {
     "data": {
      "text/plain": [
       "comments_full\n",
       "False    205\n",
       "Name: count, dtype: int64"
      ]
     },
     "metadata": {},
     "output_type": "display_data"
    },
    {
     "data": {
      "text/plain": [
       "reaction_count\n",
       "False    205\n",
       "Name: count, dtype: int64"
      ]
     },
     "metadata": {},
     "output_type": "display_data"
    },
    {
     "data": {
      "text/plain": [
       "shares\n",
       "False    205\n",
       "Name: count, dtype: int64"
      ]
     },
     "metadata": {},
     "output_type": "display_data"
    },
    {
     "data": {
      "text/plain": [
       "images_description\n",
       "False    205\n",
       "Name: count, dtype: int64"
      ]
     },
     "metadata": {},
     "output_type": "display_data"
    }
   ],
   "source": [
    "display(\n",
    "    Concat_Data['reactions'].isna().value_counts(),\n",
    "    Concat_Data['reactors'].isna().value_counts(),\n",
    "    Concat_Data['comments'].isna().value_counts(),\n",
    "    Concat_Data['comments_full'].isna().value_counts(),\n",
    "    Concat_Data['reaction_count'].isna().value_counts(),\n",
    "    Concat_Data['shares'].isna().value_counts(),\n",
    "    Concat_Data['images_description'].isna().value_counts()\n",
    ")"
   ]
  },
  {
   "cell_type": "code",
   "execution_count": 32,
   "metadata": {},
   "outputs": [],
   "source": [
    "FANPAGE_LINK =\"Data_28-11\"\n",
    "FOLDER_PATH = r\"Data/\"\n",
    "path=FOLDER_PATH + FANPAGE_LINK + \".csv\""
   ]
  },
  {
   "cell_type": "code",
   "execution_count": 33,
   "metadata": {},
   "outputs": [
    {
     "name": "stdout",
     "output_type": "stream",
     "text": [
      "Data/Data_28-11.csv\n"
     ]
    }
   ],
   "source": [
    "Concat_Data.to_csv(path, index=False)\n",
    "print(path)"
   ]
  }
 ],
 "metadata": {
  "kernelspec": {
   "display_name": "base",
   "language": "python",
   "name": "python3"
  },
  "language_info": {
   "codemirror_mode": {
    "name": "ipython",
    "version": 3
   },
   "file_extension": ".py",
   "mimetype": "text/x-python",
   "name": "python",
   "nbconvert_exporter": "python",
   "pygments_lexer": "ipython3",
   "version": "3.11.5"
  }
 },
 "nbformat": 4,
 "nbformat_minor": 2
}
